{
 "cells": [
  {
   "cell_type": "code",
   "execution_count": 1,
   "metadata": {
    "collapsed": true
   },
   "outputs": [],
   "source": [
    "import yfinance as yf\n",
    "import pandas as pd"
   ]
  },
  {
   "cell_type": "code",
   "execution_count": 2,
   "outputs": [
    {
     "name": "stdout",
     "output_type": "stream",
     "text": [
      "[*********************100%***********************]  1 of 1 completed\n"
     ]
    }
   ],
   "source": [
    "NVDA = yf.download(\"NVDA\")"
   ],
   "metadata": {
    "collapsed": false
   }
  },
  {
   "cell_type": "code",
   "execution_count": 7,
   "outputs": [
    {
     "name": "stdout",
     "output_type": "stream",
     "text": [
      "[*********************100%***********************]  1 of 1 completed\n"
     ]
    }
   ],
   "source": [
    "S_P = yf.download(\"^GSPC\")"
   ],
   "metadata": {
    "collapsed": false
   }
  },
  {
   "cell_type": "code",
   "execution_count": 9,
   "outputs": [],
   "source": [
    "S_P = S_P[-len(NVDA):]"
   ],
   "metadata": {
    "collapsed": false
   }
  },
  {
   "cell_type": "code",
   "execution_count": 10,
   "outputs": [
    {
     "data": {
      "text/plain": "                   Open         High          Low        Close    Adj Close  \\\nDate                                                                          \n1999-01-22  1235.160034  1236.410034  1217.969971  1225.189941  1225.189941   \n1999-01-25  1225.189941  1233.979980  1219.459961  1233.979980  1233.979980   \n1999-01-26  1233.979980  1253.250000  1233.979980  1252.310059  1252.310059   \n1999-01-27  1252.310059  1262.609985  1242.819946  1243.170044  1243.170044   \n1999-01-28  1243.170044  1266.400024  1243.170044  1265.369995  1265.369995   \n...                 ...          ...          ...          ...          ...   \n2022-12-12  3939.290039  3990.709961  3935.300049  3990.560059  3990.560059   \n2022-12-13  4069.379883  4100.959961  3993.030029  4019.649902  4019.649902   \n2022-12-14  4015.540039  4053.760010  3965.649902  3995.320068  3995.320068   \n2022-12-15  3958.370117  3958.370117  3879.449951  3895.750000  3895.750000   \n2022-12-16  3890.909912  3890.909912  3827.909912  3852.360107  3852.360107   \n\n                Volume  \nDate                    \n1999-01-22   785900000  \n1999-01-25   723900000  \n1999-01-26   896400000  \n1999-01-27   893800000  \n1999-01-28   848800000  \n...                ...  \n2022-12-12  3904130000  \n2022-12-13  5079360000  \n2022-12-14  4472340000  \n2022-12-15  4493900000  \n2022-12-16           0  \n\n[6017 rows x 6 columns]",
      "text/html": "<div>\n<style scoped>\n    .dataframe tbody tr th:only-of-type {\n        vertical-align: middle;\n    }\n\n    .dataframe tbody tr th {\n        vertical-align: top;\n    }\n\n    .dataframe thead th {\n        text-align: right;\n    }\n</style>\n<table border=\"1\" class=\"dataframe\">\n  <thead>\n    <tr style=\"text-align: right;\">\n      <th></th>\n      <th>Open</th>\n      <th>High</th>\n      <th>Low</th>\n      <th>Close</th>\n      <th>Adj Close</th>\n      <th>Volume</th>\n    </tr>\n    <tr>\n      <th>Date</th>\n      <th></th>\n      <th></th>\n      <th></th>\n      <th></th>\n      <th></th>\n      <th></th>\n    </tr>\n  </thead>\n  <tbody>\n    <tr>\n      <th>1999-01-22</th>\n      <td>1235.160034</td>\n      <td>1236.410034</td>\n      <td>1217.969971</td>\n      <td>1225.189941</td>\n      <td>1225.189941</td>\n      <td>785900000</td>\n    </tr>\n    <tr>\n      <th>1999-01-25</th>\n      <td>1225.189941</td>\n      <td>1233.979980</td>\n      <td>1219.459961</td>\n      <td>1233.979980</td>\n      <td>1233.979980</td>\n      <td>723900000</td>\n    </tr>\n    <tr>\n      <th>1999-01-26</th>\n      <td>1233.979980</td>\n      <td>1253.250000</td>\n      <td>1233.979980</td>\n      <td>1252.310059</td>\n      <td>1252.310059</td>\n      <td>896400000</td>\n    </tr>\n    <tr>\n      <th>1999-01-27</th>\n      <td>1252.310059</td>\n      <td>1262.609985</td>\n      <td>1242.819946</td>\n      <td>1243.170044</td>\n      <td>1243.170044</td>\n      <td>893800000</td>\n    </tr>\n    <tr>\n      <th>1999-01-28</th>\n      <td>1243.170044</td>\n      <td>1266.400024</td>\n      <td>1243.170044</td>\n      <td>1265.369995</td>\n      <td>1265.369995</td>\n      <td>848800000</td>\n    </tr>\n    <tr>\n      <th>...</th>\n      <td>...</td>\n      <td>...</td>\n      <td>...</td>\n      <td>...</td>\n      <td>...</td>\n      <td>...</td>\n    </tr>\n    <tr>\n      <th>2022-12-12</th>\n      <td>3939.290039</td>\n      <td>3990.709961</td>\n      <td>3935.300049</td>\n      <td>3990.560059</td>\n      <td>3990.560059</td>\n      <td>3904130000</td>\n    </tr>\n    <tr>\n      <th>2022-12-13</th>\n      <td>4069.379883</td>\n      <td>4100.959961</td>\n      <td>3993.030029</td>\n      <td>4019.649902</td>\n      <td>4019.649902</td>\n      <td>5079360000</td>\n    </tr>\n    <tr>\n      <th>2022-12-14</th>\n      <td>4015.540039</td>\n      <td>4053.760010</td>\n      <td>3965.649902</td>\n      <td>3995.320068</td>\n      <td>3995.320068</td>\n      <td>4472340000</td>\n    </tr>\n    <tr>\n      <th>2022-12-15</th>\n      <td>3958.370117</td>\n      <td>3958.370117</td>\n      <td>3879.449951</td>\n      <td>3895.750000</td>\n      <td>3895.750000</td>\n      <td>4493900000</td>\n    </tr>\n    <tr>\n      <th>2022-12-16</th>\n      <td>3890.909912</td>\n      <td>3890.909912</td>\n      <td>3827.909912</td>\n      <td>3852.360107</td>\n      <td>3852.360107</td>\n      <td>0</td>\n    </tr>\n  </tbody>\n</table>\n<p>6017 rows × 6 columns</p>\n</div>"
     },
     "execution_count": 10,
     "metadata": {},
     "output_type": "execute_result"
    }
   ],
   "source": [
    "S_P"
   ],
   "metadata": {
    "collapsed": false
   }
  },
  {
   "cell_type": "code",
   "execution_count": 11,
   "outputs": [
    {
     "data": {
      "text/plain": "                  Open        High         Low       Close   Adj Close  \\\nDate                                                                     \n1999-01-22    0.437500    0.488281    0.388021    0.410156    0.376422   \n1999-01-25    0.442708    0.458333    0.410156    0.453125    0.415856   \n1999-01-26    0.458333    0.467448    0.411458    0.417969    0.383592   \n1999-01-27    0.419271    0.429688    0.395833    0.416667    0.382397   \n1999-01-28    0.416667    0.419271    0.412760    0.415365    0.381202   \n...                ...         ...         ...         ...         ...   \n2022-12-12  170.369995  175.380005  167.970001  175.350006  175.350006   \n2022-12-13  185.309998  187.899994  177.110001  180.720001  180.720001   \n2022-12-14  179.869995  182.520004  174.199997  176.740005  176.740005   \n2022-12-15  171.460007  173.199997  167.000000  169.520004  169.520004   \n2022-12-16  168.639999  170.410004  164.100006  165.710007  165.710007   \n\n                 Volume  \nDate                     \n1999-01-22  271468800.0  \n1999-01-25   51048000.0  \n1999-01-26   34320000.0  \n1999-01-27   24436800.0  \n1999-01-28   22752000.0  \n...                 ...  \n2022-12-12   45732800.0  \n2022-12-13   65658900.0  \n2022-12-14   49688800.0  \n2022-12-15   47854200.0  \n2022-12-16   47791400.0  \n\n[6017 rows x 6 columns]",
      "text/html": "<div>\n<style scoped>\n    .dataframe tbody tr th:only-of-type {\n        vertical-align: middle;\n    }\n\n    .dataframe tbody tr th {\n        vertical-align: top;\n    }\n\n    .dataframe thead th {\n        text-align: right;\n    }\n</style>\n<table border=\"1\" class=\"dataframe\">\n  <thead>\n    <tr style=\"text-align: right;\">\n      <th></th>\n      <th>Open</th>\n      <th>High</th>\n      <th>Low</th>\n      <th>Close</th>\n      <th>Adj Close</th>\n      <th>Volume</th>\n    </tr>\n    <tr>\n      <th>Date</th>\n      <th></th>\n      <th></th>\n      <th></th>\n      <th></th>\n      <th></th>\n      <th></th>\n    </tr>\n  </thead>\n  <tbody>\n    <tr>\n      <th>1999-01-22</th>\n      <td>0.437500</td>\n      <td>0.488281</td>\n      <td>0.388021</td>\n      <td>0.410156</td>\n      <td>0.376422</td>\n      <td>271468800.0</td>\n    </tr>\n    <tr>\n      <th>1999-01-25</th>\n      <td>0.442708</td>\n      <td>0.458333</td>\n      <td>0.410156</td>\n      <td>0.453125</td>\n      <td>0.415856</td>\n      <td>51048000.0</td>\n    </tr>\n    <tr>\n      <th>1999-01-26</th>\n      <td>0.458333</td>\n      <td>0.467448</td>\n      <td>0.411458</td>\n      <td>0.417969</td>\n      <td>0.383592</td>\n      <td>34320000.0</td>\n    </tr>\n    <tr>\n      <th>1999-01-27</th>\n      <td>0.419271</td>\n      <td>0.429688</td>\n      <td>0.395833</td>\n      <td>0.416667</td>\n      <td>0.382397</td>\n      <td>24436800.0</td>\n    </tr>\n    <tr>\n      <th>1999-01-28</th>\n      <td>0.416667</td>\n      <td>0.419271</td>\n      <td>0.412760</td>\n      <td>0.415365</td>\n      <td>0.381202</td>\n      <td>22752000.0</td>\n    </tr>\n    <tr>\n      <th>...</th>\n      <td>...</td>\n      <td>...</td>\n      <td>...</td>\n      <td>...</td>\n      <td>...</td>\n      <td>...</td>\n    </tr>\n    <tr>\n      <th>2022-12-12</th>\n      <td>170.369995</td>\n      <td>175.380005</td>\n      <td>167.970001</td>\n      <td>175.350006</td>\n      <td>175.350006</td>\n      <td>45732800.0</td>\n    </tr>\n    <tr>\n      <th>2022-12-13</th>\n      <td>185.309998</td>\n      <td>187.899994</td>\n      <td>177.110001</td>\n      <td>180.720001</td>\n      <td>180.720001</td>\n      <td>65658900.0</td>\n    </tr>\n    <tr>\n      <th>2022-12-14</th>\n      <td>179.869995</td>\n      <td>182.520004</td>\n      <td>174.199997</td>\n      <td>176.740005</td>\n      <td>176.740005</td>\n      <td>49688800.0</td>\n    </tr>\n    <tr>\n      <th>2022-12-15</th>\n      <td>171.460007</td>\n      <td>173.199997</td>\n      <td>167.000000</td>\n      <td>169.520004</td>\n      <td>169.520004</td>\n      <td>47854200.0</td>\n    </tr>\n    <tr>\n      <th>2022-12-16</th>\n      <td>168.639999</td>\n      <td>170.410004</td>\n      <td>164.100006</td>\n      <td>165.710007</td>\n      <td>165.710007</td>\n      <td>47791400.0</td>\n    </tr>\n  </tbody>\n</table>\n<p>6017 rows × 6 columns</p>\n</div>"
     },
     "execution_count": 11,
     "metadata": {},
     "output_type": "execute_result"
    }
   ],
   "source": [
    "NVDA"
   ],
   "metadata": {
    "collapsed": false
   }
  },
  {
   "cell_type": "code",
   "execution_count": 3,
   "outputs": [],
   "source": [
    "import torch\n",
    "import torch.nn as nn\n",
    "from torch.utils.data import DataLoader\n",
    "import math"
   ],
   "metadata": {
    "collapsed": false
   }
  },
  {
   "cell_type": "code",
   "execution_count": 13,
   "outputs": [
    {
     "data": {
      "text/plain": "Open         float64\nHigh         float64\nLow          float64\nClose        float64\nAdj Close    float64\nVolume       float64\ndtype: object"
     },
     "execution_count": 13,
     "metadata": {},
     "output_type": "execute_result"
    }
   ],
   "source": [
    "NVDA.dtypes"
   ],
   "metadata": {
    "collapsed": false
   }
  },
  {
   "cell_type": "code",
   "execution_count": 4,
   "outputs": [],
   "source": [
    "NVDA['ma7'] = NVDA['Close'].rolling(window=5).mean()\n",
    "NVDA['ma30'] = NVDA['Close'].rolling(window=20).mean()"
   ],
   "metadata": {
    "collapsed": false
   }
  },
  {
   "cell_type": "code",
   "execution_count": 79,
   "outputs": [],
   "source": [
    "X = NVDA.loc[:, NVDA.columns != \"Close\"]\n",
    "Y = NVDA.loc[:, \"Close\"]"
   ],
   "metadata": {
    "collapsed": false
   }
  },
  {
   "cell_type": "code",
   "execution_count": 80,
   "outputs": [],
   "source": [
    "X = X[20:]\n",
    "Y = Y[20:]"
   ],
   "metadata": {
    "collapsed": false
   }
  },
  {
   "cell_type": "code",
   "execution_count": 81,
   "outputs": [
    {
     "data": {
      "text/plain": "Date\n1999-02-22      0.437500\n1999-02-23      0.458333\n1999-02-24      0.494792\n1999-02-25      0.479167\n1999-02-26      0.457031\n                 ...    \n2022-12-12    175.350006\n2022-12-13    180.720001\n2022-12-14    176.740005\n2022-12-15    169.520004\n2022-12-16    165.710007\nName: Close, Length: 5997, dtype: float64"
     },
     "execution_count": 81,
     "metadata": {},
     "output_type": "execute_result"
    }
   ],
   "source": [
    "Y"
   ],
   "metadata": {
    "collapsed": false
   }
  },
  {
   "cell_type": "code",
   "execution_count": 82,
   "outputs": [],
   "source": [
    "Y = pd.DataFrame(Y)"
   ],
   "metadata": {
    "collapsed": false
   }
  },
  {
   "cell_type": "code",
   "execution_count": 83,
   "outputs": [],
   "source": [
    "from sklearn.preprocessing import StandardScaler, MinMaxScaler\n",
    "\n",
    "ms = MinMaxScaler()\n",
    "ss = StandardScaler()\n",
    "\n",
    "X_ss = ss.fit_transform(X)\n",
    "Y_ms = ms.fit_transform(Y)"
   ],
   "metadata": {
    "collapsed": false
   }
  },
  {
   "cell_type": "code",
   "execution_count": 84,
   "outputs": [],
   "source": [
    "X_train, X_test = X_ss[: len(X) - 10], X_ss[len(X) - 10 :]"
   ],
   "metadata": {
    "collapsed": false
   }
  },
  {
   "cell_type": "code",
   "execution_count": 85,
   "outputs": [],
   "source": [
    "Y_train, Y_test = Y_ms[: len(Y) - 10], Y_ms[len(Y) - 10 :]"
   ],
   "metadata": {
    "collapsed": false
   }
  },
  {
   "cell_type": "code",
   "execution_count": 86,
   "outputs": [],
   "source": [
    "from torch.autograd import Variable"
   ],
   "metadata": {
    "collapsed": false
   }
  },
  {
   "cell_type": "code",
   "execution_count": 87,
   "outputs": [],
   "source": [
    "X_train_tensors, X_test_tensors = Variable(torch.Tensor(X_train)), Variable(torch.Tensor(X_test))"
   ],
   "metadata": {
    "collapsed": false
   }
  },
  {
   "cell_type": "code",
   "execution_count": 88,
   "outputs": [],
   "source": [
    "Y_train_tensors, Y_test_tensors = Variable(torch.Tensor(Y_train).view(-1, 1)), Variable(torch.Tensor(Y_test).view(-1, 1))"
   ],
   "metadata": {
    "collapsed": false
   }
  },
  {
   "cell_type": "code",
   "execution_count": 89,
   "outputs": [],
   "source": [
    "X_train_tensors_f = torch.reshape(X_train_tensors, (X_train_tensors.shape[0], 1, X_train_tensors.shape[1]))\n",
    "X_test_tensors_f = torch.reshape(X_test_tensors, (X_test_tensors.shape[0], 1, X_test_tensors.shape[1]))"
   ],
   "metadata": {
    "collapsed": false
   }
  },
  {
   "cell_type": "code",
   "execution_count": 90,
   "outputs": [
    {
     "data": {
      "text/plain": "array([[-0.50147786, -0.50088235, -0.50300977, ..., -0.93001942,\n        -0.50180275, -0.50117162],\n       [-0.50138549, -0.50054291, -0.50286804, ..., -1.0818527 ,\n        -0.5017287 , -0.50116696],\n       [-0.50000008, -0.4991625 , -0.50175776, ..., -0.00860081,\n        -0.50144176, -0.50109831],\n       ...,\n       [ 2.27425366,  2.43369452,  2.31915578, ..., -0.11776603,\n         2.37600741,  2.24410576],\n       [ 2.50514014,  2.49191592,  2.50747448, ..., -0.32919579,\n         2.39790284,  2.27909862],\n       [ 2.44484706,  2.43421588,  2.47300367, ..., -0.55480226,\n         2.41944281,  2.30997204]])"
     },
     "execution_count": 90,
     "metadata": {},
     "output_type": "execute_result"
    }
   ],
   "source": [
    "X_train"
   ],
   "metadata": {
    "collapsed": false
   }
  },
  {
   "cell_type": "code",
   "execution_count": 91,
   "outputs": [],
   "source": [
    "class LSTM(nn.Module):\n",
    "    def __init__(self, num_classes, input_size, hidden_size, num_layers, seq_length):\n",
    "        super(LSTM, self).__init__()\n",
    "        self.num_classes = num_classes\n",
    "        self.num_layers = num_layers\n",
    "        self.input_size = input_size\n",
    "        self.hidden_size = hidden_size\n",
    "        self.seq_length = seq_length\n",
    "\n",
    "        self.lstm = nn.LSTM(input_size=input_size, hidden_size=hidden_size,\n",
    "                          num_layers=num_layers, batch_first=True)\n",
    "        self.fc_1 =  nn.Linear(hidden_size, 128)\n",
    "        self.fc = nn.Linear(128, num_classes)\n",
    "\n",
    "        self.relu = nn.ReLU()\n",
    "\n",
    "    def forward(self,x):\n",
    "        h_0 = Variable(torch.zeros(self.num_layers, x.size(0), self.hidden_size))\n",
    "        c_0 = Variable(torch.zeros(self.num_layers, x.size(0), self.hidden_size))\n",
    "\n",
    "        output, (hn, cn) = self.lstm(x, (h_0, c_0))\n",
    "        hn = hn.view(-1, self.hidden_size)\n",
    "        out = self.relu(hn)\n",
    "        out = self.fc_1(out)\n",
    "        out = self.relu(out)\n",
    "        out = self.fc(out)\n",
    "        return out"
   ],
   "metadata": {
    "collapsed": false
   }
  },
  {
   "cell_type": "code",
   "execution_count": 92,
   "outputs": [],
   "source": [
    "num_epochs = 1000\n",
    "lr = 0.0001\n",
    "\n",
    "input_size = 7\n",
    "hidden_size = 2\n",
    "num_layers = 1\n",
    "\n",
    "num_classes = 1\n",
    "\n",
    "model = LSTM(num_classes, input_size, hidden_size, num_layers, X_train_tensors_f.shape[1])\n",
    "# model = nn.LSTM(\n",
    "#     input_size=input_size,\n",
    "#     hidden_size=hidden_size,\n",
    "#     num_layers=num_layers,\n",
    "# )\n",
    "\n",
    "criterion = nn.MSELoss()\n",
    "optimizer = torch.optim.Adam(model.parameters(), lr=lr)"
   ],
   "metadata": {
    "collapsed": false
   }
  },
  {
   "cell_type": "code",
   "execution_count": 93,
   "outputs": [],
   "source": [
    "from tqdm import tqdm"
   ],
   "metadata": {
    "collapsed": false
   }
  },
  {
   "cell_type": "code",
   "execution_count": 93,
   "outputs": [],
   "source": [],
   "metadata": {
    "collapsed": false
   }
  },
  {
   "cell_type": "code",
   "execution_count": 94,
   "outputs": [
    {
     "name": "stderr",
     "output_type": "stream",
     "text": [
      "  0%|          | 0/1000 [00:00<?, ?it/s]/Users/binjang/.conda/envs/binjang_local/lib/python3.10/site-packages/torch/nn/modules/loss.py:536: UserWarning: Using a target size (torch.Size([5987, 1])) that is different to the input size (torch.Size([1])). This will likely lead to incorrect results due to broadcasting. Please ensure they have the same size.\n",
      "  return F.mse_loss(input, target, reduction=self.reduction)\n"
     ]
    },
    {
     "name": "stdout",
     "output_type": "stream",
     "text": [
      "Epoch: 0, loss: 0.0705905482172966\n"
     ]
    },
    {
     "name": "stderr",
     "output_type": "stream",
     "text": [
      " 13%|█▎        | 130/1000 [00:00<00:03, 256.59it/s]"
     ]
    },
    {
     "name": "stdout",
     "output_type": "stream",
     "text": [
      "Epoch: 100, loss: 0.02880341187119484\n"
     ]
    },
    {
     "name": "stderr",
     "output_type": "stream",
     "text": [
      " 24%|██▎       | 235/1000 [00:00<00:02, 257.15it/s]"
     ]
    },
    {
     "name": "stdout",
     "output_type": "stream",
     "text": [
      "Epoch: 200, loss: 0.028317460790276527\n"
     ]
    },
    {
     "name": "stderr",
     "output_type": "stream",
     "text": [
      " 34%|███▍      | 339/1000 [00:01<00:02, 256.60it/s]"
     ]
    },
    {
     "name": "stdout",
     "output_type": "stream",
     "text": [
      "Epoch: 300, loss: 0.028317458927631378\n"
     ]
    },
    {
     "name": "stderr",
     "output_type": "stream",
     "text": [
      " 44%|████▍     | 443/1000 [00:01<00:02, 256.70it/s]"
     ]
    },
    {
     "name": "stdout",
     "output_type": "stream",
     "text": [
      "Epoch: 400, loss: 0.028317460790276527\n"
     ]
    },
    {
     "name": "stderr",
     "output_type": "stream",
     "text": [
      " 55%|█████▍    | 548/1000 [00:02<00:01, 257.27it/s]"
     ]
    },
    {
     "name": "stdout",
     "output_type": "stream",
     "text": [
      "Epoch: 500, loss: 0.028317458927631378\n"
     ]
    },
    {
     "name": "stderr",
     "output_type": "stream",
     "text": [
      " 65%|██████▌   | 652/1000 [00:02<00:01, 256.80it/s]"
     ]
    },
    {
     "name": "stdout",
     "output_type": "stream",
     "text": [
      "Epoch: 600, loss: 0.028317458927631378\n"
     ]
    },
    {
     "name": "stderr",
     "output_type": "stream",
     "text": [
      " 73%|███████▎  | 730/1000 [00:02<00:01, 254.29it/s]"
     ]
    },
    {
     "name": "stdout",
     "output_type": "stream",
     "text": [
      "Epoch: 700, loss: 0.028317458927631378\n"
     ]
    },
    {
     "name": "stderr",
     "output_type": "stream",
     "text": [
      " 83%|████████▎ | 834/1000 [00:03<00:00, 256.41it/s]"
     ]
    },
    {
     "name": "stdout",
     "output_type": "stream",
     "text": [
      "Epoch: 800, loss: 0.028317460790276527\n"
     ]
    },
    {
     "name": "stderr",
     "output_type": "stream",
     "text": [
      " 94%|█████████▍| 938/1000 [00:03<00:00, 256.18it/s]"
     ]
    },
    {
     "name": "stdout",
     "output_type": "stream",
     "text": [
      "Epoch: 900, loss: 0.028317460790276527\n"
     ]
    },
    {
     "name": "stderr",
     "output_type": "stream",
     "text": [
      "100%|██████████| 1000/1000 [00:03<00:00, 255.60it/s]\n"
     ]
    }
   ],
   "source": [
    "for epoch in tqdm(range(num_epochs)):\n",
    "    outputs = model.forward(X_train_tensors_f)\n",
    "    optimizer.zero_grad()\n",
    "    loss = criterion(outputs[0], Y_train_tensors)\n",
    "    loss.backward()\n",
    "\n",
    "    optimizer.step()\n",
    "    if epoch % 100 == 0:\n",
    "        print(f\"Epoch: {epoch}, loss: {loss.item()}\")"
   ],
   "metadata": {
    "collapsed": false
   }
  },
  {
   "cell_type": "code",
   "execution_count": 97,
   "outputs": [],
   "source": [
    "df_x_ss = ss.transform(X)\n",
    "df_y_ms = ms.transform(Y)\n",
    "\n",
    "df_x_ss = Variable(torch.Tensor(df_x_ss))\n",
    "df_y_ms = Variable(torch.Tensor(df_y_ms))\n",
    "df_x_ss = torch.reshape(df_x_ss, (df_x_ss.shape[0], 1, df_x_ss.shape[1]))"
   ],
   "metadata": {
    "collapsed": false
   }
  },
  {
   "cell_type": "code",
   "execution_count": 99,
   "outputs": [],
   "source": [
    "import matplotlib.pyplot as plt"
   ],
   "metadata": {
    "collapsed": false
   }
  },
  {
   "cell_type": "code",
   "execution_count": 100,
   "outputs": [
    {
     "data": {
      "text/plain": "<Figure size 1000x600 with 1 Axes>",
      "image/png": "[encoded data removed]"
     },
     "metadata": {},
     "output_type": "display_data"
    }
   ],
   "source": [
    "train_predict = model(df_x_ss)\n",
    "predicted = train_predict.data.numpy()\n",
    "label_y = df_y_ms.data.numpy()\n",
    "\n",
    "predicted= ms.inverse_transform(predicted)\n",
    "label_y = ms.inverse_transform(label_y)\n",
    "plt.figure(figsize=(10,6))\n",
    "plt.axvline(x=200, c='r', linestyle='--')\n",
    "\n",
    "plt.plot(label_y, label='Actual Data')\n",
    "plt.plot(predicted, label='Predicted Data')\n",
    "plt.title('Time-Series Prediction')\n",
    "plt.legend()\n",
    "plt.show()"
   ],
   "metadata": {
    "collapsed": false
   }
  },
  {
   "cell_type": "code",
   "execution_count": null,
   "outputs": [],
   "source": [],
   "metadata": {
    "collapsed": false
   }
  }
 ],
 "metadata": {
  "kernelspec": {
   "display_name": "Python 3",
   "language": "python",
   "name": "python3"
  },
  "language_info": {
   "codemirror_mode": {
    "name": "ipython",
    "version": 2
   },
   "file_extension": ".py",
   "mimetype": "text/x-python",
   "name": "python",
   "nbconvert_exporter": "python",
   "pygments_lexer": "ipython2",
   "version": "2.7.6"
  }
 },
 "nbformat": 4,
 "nbformat_minor": 0
}
